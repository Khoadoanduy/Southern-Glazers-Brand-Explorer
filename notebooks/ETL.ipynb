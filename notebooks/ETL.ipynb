{
 "cells": [
  {
   "cell_type": "code",
   "execution_count": 1,
   "metadata": {},
   "outputs": [],
   "source": [
    "# Import libraries\n",
    "import pandas as pd\n",
    "import sys\n",
    "import os"
   ]
  },
  {
   "cell_type": "code",
   "execution_count": 2,
   "metadata": {},
   "outputs": [],
   "source": [
    "# Get the current working directory\n",
    "current_dir = os.getcwd()\n",
    "# Move up one level from the current directory\n",
    "parent_dir = os.path.dirname(current_dir)\n",
    "# Change directory into data directory\n",
    "data_dir = os.path.join(parent_dir, 'data')"
   ]
  },
  {
   "cell_type": "code",
   "execution_count": 3,
   "metadata": {},
   "outputs": [],
   "source": [
    "sys.path.append(parent_dir)"
   ]
  },
  {
   "cell_type": "code",
   "execution_count": 4,
   "metadata": {},
   "outputs": [],
   "source": [
    "import db_config as cfg"
   ]
  },
  {
   "cell_type": "markdown",
   "metadata": {},
   "source": [
    "# 1. Extract"
   ]
  },
  {
   "cell_type": "code",
   "execution_count": 5,
   "metadata": {},
   "outputs": [],
   "source": [
    "df_product = pd.read_csv(os.path.join(data_dir, 'products.csv'), index_col=None)"
   ]
  },
  {
   "cell_type": "code",
   "execution_count": 6,
   "metadata": {},
   "outputs": [
    {
     "data": {
      "text/html": [
       "<div>\n",
       "<style scoped>\n",
       "    .dataframe tbody tr th:only-of-type {\n",
       "        vertical-align: middle;\n",
       "    }\n",
       "\n",
       "    .dataframe tbody tr th {\n",
       "        vertical-align: top;\n",
       "    }\n",
       "\n",
       "    .dataframe thead th {\n",
       "        text-align: right;\n",
       "    }\n",
       "</style>\n",
       "<table border=\"1\" class=\"dataframe\">\n",
       "  <thead>\n",
       "    <tr style=\"text-align: right;\">\n",
       "      <th></th>\n",
       "      <th>item_desc</th>\n",
       "      <th>corp_item_brand_name</th>\n",
       "      <th>pim_item_class_desc</th>\n",
       "      <th>pim_item_sub_class_desc</th>\n",
       "      <th>state</th>\n",
       "      <th>flavor</th>\n",
       "      <th>pim_tasting_notes</th>\n",
       "      <th>alcohol_percentage</th>\n",
       "      <th>sweetness_level</th>\n",
       "      <th>bitterness_level</th>\n",
       "      <th>...</th>\n",
       "      <th>body</th>\n",
       "      <th>serving_temperature</th>\n",
       "      <th>vintage_year</th>\n",
       "      <th>grape_variety</th>\n",
       "      <th>region</th>\n",
       "      <th>price</th>\n",
       "      <th>food_pairing</th>\n",
       "      <th>aroma</th>\n",
       "      <th>mouthfeel</th>\n",
       "      <th>finish</th>\n",
       "    </tr>\n",
       "  </thead>\n",
       "  <tbody>\n",
       "    <tr>\n",
       "      <th>0</th>\n",
       "      <td>-196 CKTL VOD A(DL/G/P) CAN 3/8PK</td>\n",
       "      <td>-196</td>\n",
       "      <td>COCKTAILS</td>\n",
       "      <td>COCKTAILS-OTHER</td>\n",
       "      <td>TX</td>\n",
       "      <td>OTHER</td>\n",
       "      <td>NaN</td>\n",
       "      <td>13.417170</td>\n",
       "      <td>10</td>\n",
       "      <td>3</td>\n",
       "      <td>...</td>\n",
       "      <td>Full</td>\n",
       "      <td>42.930000</td>\n",
       "      <td>2008</td>\n",
       "      <td>Chardonnay</td>\n",
       "      <td>Tuscany</td>\n",
       "      <td>53.103866</td>\n",
       "      <td>Pasta</td>\n",
       "      <td>Fruity</td>\n",
       "      <td>Rough</td>\n",
       "      <td>Long</td>\n",
       "    </tr>\n",
       "    <tr>\n",
       "      <th>1</th>\n",
       "      <td>-196 CKTL VOD PEACH 12 CAN 6/4PK</td>\n",
       "      <td>-196</td>\n",
       "      <td>COCKTAILS</td>\n",
       "      <td>COCKTAILS-OTHER</td>\n",
       "      <td>TX</td>\n",
       "      <td>PEACH</td>\n",
       "      <td>NaN</td>\n",
       "      <td>8.623515</td>\n",
       "      <td>9</td>\n",
       "      <td>3</td>\n",
       "      <td>...</td>\n",
       "      <td>Medium</td>\n",
       "      <td>59.049843</td>\n",
       "      <td>2018</td>\n",
       "      <td>Cabernet Sauvignon</td>\n",
       "      <td>Sonoma</td>\n",
       "      <td>94.475113</td>\n",
       "      <td>Pasta</td>\n",
       "      <td>Floral</td>\n",
       "      <td>Silky</td>\n",
       "      <td>Long</td>\n",
       "    </tr>\n",
       "    <tr>\n",
       "      <th>2</th>\n",
       "      <td>-196 CKTL VOD DBL LEM 12 CAN 6/4PK</td>\n",
       "      <td>-196</td>\n",
       "      <td>COCKTAILS</td>\n",
       "      <td>COCKTAILS-OTHER</td>\n",
       "      <td>TX</td>\n",
       "      <td>LEMON</td>\n",
       "      <td>Fresh lemon peel. Tart and light sweet with ch...</td>\n",
       "      <td>10.249378</td>\n",
       "      <td>2</td>\n",
       "      <td>8</td>\n",
       "      <td>...</td>\n",
       "      <td>Medium</td>\n",
       "      <td>49.068042</td>\n",
       "      <td>2003</td>\n",
       "      <td>Cabernet Sauvignon</td>\n",
       "      <td>Sonoma</td>\n",
       "      <td>85.019099</td>\n",
       "      <td>Cheese</td>\n",
       "      <td>Spicy</td>\n",
       "      <td>Silky</td>\n",
       "      <td>Medium</td>\n",
       "    </tr>\n",
       "    <tr>\n",
       "      <th>3</th>\n",
       "      <td>-196 CKTL VOD GRFRUIT 12 CAN 6/4P</td>\n",
       "      <td>-196</td>\n",
       "      <td>COCKTAILS</td>\n",
       "      <td>COCKTAILS-OTHER</td>\n",
       "      <td>TX</td>\n",
       "      <td>GRAPEFRUIT</td>\n",
       "      <td>NaN</td>\n",
       "      <td>6.012468</td>\n",
       "      <td>5</td>\n",
       "      <td>4</td>\n",
       "      <td>...</td>\n",
       "      <td>Medium</td>\n",
       "      <td>51.566561</td>\n",
       "      <td>2013</td>\n",
       "      <td>Cabernet Sauvignon</td>\n",
       "      <td>Rioja</td>\n",
       "      <td>87.519005</td>\n",
       "      <td>Cheese</td>\n",
       "      <td>Spicy</td>\n",
       "      <td>Silky</td>\n",
       "      <td>Short</td>\n",
       "    </tr>\n",
       "    <tr>\n",
       "      <th>4</th>\n",
       "      <td>10 CANE RUM 80</td>\n",
       "      <td>10 CANE</td>\n",
       "      <td>RUM</td>\n",
       "      <td>GOLD RUM</td>\n",
       "      <td>TX</td>\n",
       "      <td>NaN</td>\n",
       "      <td>NaN</td>\n",
       "      <td>10.071682</td>\n",
       "      <td>5</td>\n",
       "      <td>8</td>\n",
       "      <td>...</td>\n",
       "      <td>Full</td>\n",
       "      <td>61.513052</td>\n",
       "      <td>2016</td>\n",
       "      <td>Merlot</td>\n",
       "      <td>Napa Valley</td>\n",
       "      <td>89.105149</td>\n",
       "      <td>Pasta</td>\n",
       "      <td>Fruity</td>\n",
       "      <td>Rough</td>\n",
       "      <td>Short</td>\n",
       "    </tr>\n",
       "  </tbody>\n",
       "</table>\n",
       "<p>5 rows × 22 columns</p>\n",
       "</div>"
      ],
      "text/plain": [
       "                            item_desc corp_item_brand_name  \\\n",
       "0   -196 CKTL VOD A(DL/G/P) CAN 3/8PK                 -196   \n",
       "1    -196 CKTL VOD PEACH 12 CAN 6/4PK                 -196   \n",
       "2  -196 CKTL VOD DBL LEM 12 CAN 6/4PK                 -196   \n",
       "3   -196 CKTL VOD GRFRUIT 12 CAN 6/4P                 -196   \n",
       "4                      10 CANE RUM 80              10 CANE   \n",
       "\n",
       "  pim_item_class_desc pim_item_sub_class_desc state      flavor  \\\n",
       "0           COCKTAILS         COCKTAILS-OTHER    TX       OTHER   \n",
       "1           COCKTAILS         COCKTAILS-OTHER    TX       PEACH   \n",
       "2           COCKTAILS         COCKTAILS-OTHER    TX       LEMON   \n",
       "3           COCKTAILS         COCKTAILS-OTHER    TX  GRAPEFRUIT   \n",
       "4                 RUM                GOLD RUM    TX         NaN   \n",
       "\n",
       "                                   pim_tasting_notes  alcohol_percentage  \\\n",
       "0                                                NaN           13.417170   \n",
       "1                                                NaN            8.623515   \n",
       "2  Fresh lemon peel. Tart and light sweet with ch...           10.249378   \n",
       "3                                                NaN            6.012468   \n",
       "4                                                NaN           10.071682   \n",
       "\n",
       "   sweetness_level  bitterness_level  ...    body  serving_temperature  \\\n",
       "0               10                 3  ...    Full            42.930000   \n",
       "1                9                 3  ...  Medium            59.049843   \n",
       "2                2                 8  ...  Medium            49.068042   \n",
       "3                5                 4  ...  Medium            51.566561   \n",
       "4                5                 8  ...    Full            61.513052   \n",
       "\n",
       "  vintage_year       grape_variety       region      price food_pairing  \\\n",
       "0         2008          Chardonnay      Tuscany  53.103866        Pasta   \n",
       "1         2018  Cabernet Sauvignon       Sonoma  94.475113        Pasta   \n",
       "2         2003  Cabernet Sauvignon       Sonoma  85.019099       Cheese   \n",
       "3         2013  Cabernet Sauvignon        Rioja  87.519005       Cheese   \n",
       "4         2016              Merlot  Napa Valley  89.105149        Pasta   \n",
       "\n",
       "    aroma mouthfeel  finish  \n",
       "0  Fruity     Rough    Long  \n",
       "1  Floral     Silky    Long  \n",
       "2   Spicy     Silky  Medium  \n",
       "3   Spicy     Silky   Short  \n",
       "4  Fruity     Rough   Short  \n",
       "\n",
       "[5 rows x 22 columns]"
      ]
     },
     "execution_count": 6,
     "metadata": {},
     "output_type": "execute_result"
    }
   ],
   "source": [
    "df_product.head()"
   ]
  },
  {
   "cell_type": "markdown",
   "metadata": {},
   "source": [
    "# 2. Transform"
   ]
  },
  {
   "cell_type": "code",
   "execution_count": 7,
   "metadata": {},
   "outputs": [
    {
     "data": {
      "text/plain": [
       "item_desc                   object\n",
       "corp_item_brand_name        object\n",
       "pim_item_class_desc         object\n",
       "pim_item_sub_class_desc     object\n",
       "state                       object\n",
       "flavor                      object\n",
       "pim_tasting_notes           object\n",
       "alcohol_percentage         float64\n",
       "sweetness_level              int64\n",
       "bitterness_level             int64\n",
       "acidity_level                int64\n",
       "tannin_level                 int64\n",
       "body                        object\n",
       "serving_temperature        float64\n",
       "vintage_year                 int64\n",
       "grape_variety               object\n",
       "region                      object\n",
       "price                      float64\n",
       "food_pairing                object\n",
       "aroma                       object\n",
       "mouthfeel                   object\n",
       "finish                      object\n",
       "dtype: object"
      ]
     },
     "execution_count": 7,
     "metadata": {},
     "output_type": "execute_result"
    }
   ],
   "source": [
    "df_product.dtypes"
   ]
  },
  {
   "cell_type": "markdown",
   "metadata": {},
   "source": [
    "# 3. Load"
   ]
  },
  {
   "cell_type": "code",
   "execution_count": 8,
   "metadata": {},
   "outputs": [],
   "source": [
    "import pyodbc"
   ]
  },
  {
   "cell_type": "code",
   "execution_count": 9,
   "metadata": {},
   "outputs": [],
   "source": [
    "#test connection\n",
    "conn_str = pyodbc.connect(\n",
    "    'DRIVER={ODBC Driver 17 for SQL Server};'\n",
    "    F'SERVER={cfg.SERVER_NAME};'\n",
    "    F'DATABASE={cfg.DATABASE_NAME};'\n",
    "    F'UID={cfg.USER_ID};'\n",
    "    F'PWD={cfg.USER_PASSWORD};'\n",
    ")"
   ]
  },
  {
   "cell_type": "code",
   "execution_count": 10,
   "metadata": {},
   "outputs": [],
   "source": [
    "def get_column_types(df):\n",
    "    # Map Pandas data types to SQL Server data types\n",
    "    type_map = {\n",
    "        'object': 'NVARCHAR(MAX)',\n",
    "        'int64': 'BIGINT',\n",
    "        'float64': 'DECIMAL(18, 5)',  # Use DECIMAL with precision and scale\n",
    "        'datetime64[ns]': 'DATETIME2',\n",
    "        'bool': 'BIT'\n",
    "    }\n",
    "    return [type_map.get(str(dt), 'NVARCHAR(MAX)') for dt in df.dtypes]\n"
   ]
  },
  {
   "cell_type": "code",
   "execution_count": 11,
   "metadata": {},
   "outputs": [],
   "source": [
    "def load_table(df_product, table_name, schema):\n",
    "    # Define the connection string\n",
    "    conn_str = (\n",
    "        'DRIVER={ODBC Driver 17 for SQL Server};'\n",
    "        F'SERVER={cfg.SERVER_NAME};'\n",
    "        F'DATABASE={cfg.DATABASE_NAME};'\n",
    "        F'UID={cfg.USER_ID};'\n",
    "        F'PWD={cfg.USER_PASSWORD};'\n",
    "    )\n",
    "\n",
    "    # Create a pyodbc connection using the connection string\n",
    "    conn = pyodbc.connect(conn_str)\n",
    "    cursor = conn.cursor()\n",
    "\n",
    "\n",
    "    # Drop the table if it already exists\n",
    "    cursor.execute(f\"IF OBJECT_ID('{schema_name}.{table_name}', 'U') IS NOT NULL DROP TABLE {schema_name}.{table_name}\")\n",
    "    conn.commit()\n",
    "\n",
    "    # Create the table schema\n",
    "    columns = ', '.join([f'{col} {dtype}' for col, dtype in zip(df.columns, get_column_types(df))])\n",
    "    create_table_sql = f\"CREATE TABLE {schema_name}.{table_name} ({columns})\"\n",
    "    cursor.execute(create_table_sql)\n",
    "    conn.commit()\n",
    "\n",
    "    # Clean up the float columns in the DataFrame\n",
    "    for col in df.select_dtypes(include=['float']):\n",
    "        df[col] = df[col].round(5)  # Round to 5 decimal places\n",
    "\n",
    "    # Ensure there are no NaN or None values in numeric columns\n",
    "    df.fillna(0, inplace=True)  # You can adjust the fill value as necessary\n",
    "\n",
    "    # Insert the data into the table\n",
    "    insert_sql = f\"INSERT INTO {schema_name}.{table_name} VALUES ({','.join(['?'] * len(df.columns))})\"\n",
    "    for _, row in df.iterrows():\n",
    "        cursor.execute(insert_sql, *row.tolist())\n",
    "    conn.commit()\n",
    "\n",
    "    cursor.close()\n",
    "    conn.close()\n",
    "    print(f\"DataFrame loaded successfully into {schema_name}.{table_name}\")\n"
   ]
  },
  {
   "cell_type": "code",
   "execution_count": 12,
   "metadata": {},
   "outputs": [
    {
     "ename": "NameError",
     "evalue": "name 'schema_name' is not defined",
     "output_type": "error",
     "traceback": [
      "\u001b[0;31m---------------------------------------------------------------------------\u001b[0m",
      "\u001b[0;31mNameError\u001b[0m                                 Traceback (most recent call last)",
      "\u001b[1;32m/Users/doankhoa/Documents/GitHub/Southern-Glazers-Brand-Explorer/notebooks/ETL.ipynb Cell 15\u001b[0m line \u001b[0;36m1\n\u001b[0;32m----> <a href='vscode-notebook-cell:/Users/doankhoa/Documents/GitHub/Southern-Glazers-Brand-Explorer/notebooks/ETL.ipynb#X20sZmlsZQ%3D%3D?line=0'>1</a>\u001b[0m load_table(df_product, \u001b[39m'\u001b[39;49m\u001b[39mproducts\u001b[39;49m\u001b[39m'\u001b[39;49m, \u001b[39m'\u001b[39;49m\u001b[39mdbo\u001b[39;49m\u001b[39m'\u001b[39;49m)\n",
      "\u001b[1;32m/Users/doankhoa/Documents/GitHub/Southern-Glazers-Brand-Explorer/notebooks/ETL.ipynb Cell 15\u001b[0m line \u001b[0;36m1\n\u001b[1;32m     <a href='vscode-notebook-cell:/Users/doankhoa/Documents/GitHub/Southern-Glazers-Brand-Explorer/notebooks/ETL.ipynb#X20sZmlsZQ%3D%3D?line=12'>13</a>\u001b[0m cursor \u001b[39m=\u001b[39m conn\u001b[39m.\u001b[39mcursor()\n\u001b[1;32m     <a href='vscode-notebook-cell:/Users/doankhoa/Documents/GitHub/Southern-Glazers-Brand-Explorer/notebooks/ETL.ipynb#X20sZmlsZQ%3D%3D?line=15'>16</a>\u001b[0m \u001b[39m# Drop the table if it already exists\u001b[39;00m\n\u001b[0;32m---> <a href='vscode-notebook-cell:/Users/doankhoa/Documents/GitHub/Southern-Glazers-Brand-Explorer/notebooks/ETL.ipynb#X20sZmlsZQ%3D%3D?line=16'>17</a>\u001b[0m cursor\u001b[39m.\u001b[39mexecute(\u001b[39mf\u001b[39m\u001b[39m\"\u001b[39m\u001b[39mIF OBJECT_ID(\u001b[39m\u001b[39m'\u001b[39m\u001b[39m{\u001b[39;00mschema_name\u001b[39m}\u001b[39;00m\u001b[39m.\u001b[39m\u001b[39m{\u001b[39;00mtable_name\u001b[39m}\u001b[39;00m\u001b[39m'\u001b[39m\u001b[39m, \u001b[39m\u001b[39m'\u001b[39m\u001b[39mU\u001b[39m\u001b[39m'\u001b[39m\u001b[39m) IS NOT NULL DROP TABLE \u001b[39m\u001b[39m{\u001b[39;00mschema_name\u001b[39m}\u001b[39;00m\u001b[39m.\u001b[39m\u001b[39m{\u001b[39;00mtable_name\u001b[39m}\u001b[39;00m\u001b[39m\"\u001b[39m)\n\u001b[1;32m     <a href='vscode-notebook-cell:/Users/doankhoa/Documents/GitHub/Southern-Glazers-Brand-Explorer/notebooks/ETL.ipynb#X20sZmlsZQ%3D%3D?line=17'>18</a>\u001b[0m conn\u001b[39m.\u001b[39mcommit()\n\u001b[1;32m     <a href='vscode-notebook-cell:/Users/doankhoa/Documents/GitHub/Southern-Glazers-Brand-Explorer/notebooks/ETL.ipynb#X20sZmlsZQ%3D%3D?line=19'>20</a>\u001b[0m \u001b[39m# Create the table schema\u001b[39;00m\n",
      "\u001b[0;31mNameError\u001b[0m: name 'schema_name' is not defined"
     ]
    }
   ],
   "source": [
    "load_table(df_product, 'products', 'dbo')"
   ]
  }
 ],
 "metadata": {
  "kernelspec": {
   "display_name": ".venv",
   "language": "python",
   "name": "python3"
  },
  "language_info": {
   "codemirror_mode": {
    "name": "ipython",
    "version": 3
   },
   "file_extension": ".py",
   "mimetype": "text/x-python",
   "name": "python",
   "nbconvert_exporter": "python",
   "pygments_lexer": "ipython3",
   "version": "3.11.8"
  }
 },
 "nbformat": 4,
 "nbformat_minor": 2
}
