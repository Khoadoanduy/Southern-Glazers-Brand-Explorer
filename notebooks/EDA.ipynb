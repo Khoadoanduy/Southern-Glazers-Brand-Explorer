{
 "cells": [
  {
   "cell_type": "code",
   "execution_count": 2,
   "metadata": {},
   "outputs": [],
   "source": [
    "# Import libraries\n",
    "import pandas as pd\n",
    "import sys\n",
    "import os"
   ]
  },
  {
   "cell_type": "code",
   "execution_count": 3,
   "metadata": {},
   "outputs": [],
   "source": [
    "# Get the current working directory\n",
    "current_dir = os.getcwd()\n",
    "# Move up one level from the current directory\n",
    "parent_dir = os.path.dirname(current_dir)\n",
    "# Change directory into data directory\n",
    "data_dir = os.path.join(parent_dir, 'data')\n",
    "\n",
    "html_dir = os.path.join(parent_dir, 'html')"
   ]
  },
  {
   "cell_type": "code",
   "execution_count": 4,
   "metadata": {},
   "outputs": [],
   "source": [
    "sys.path.append(parent_dir)"
   ]
  },
  {
   "cell_type": "code",
   "execution_count": 5,
   "metadata": {},
   "outputs": [],
   "source": [
    "import config as cfg"
   ]
  },
  {
   "cell_type": "markdown",
   "metadata": {},
   "source": [
    "# EDA"
   ]
  },
  {
   "cell_type": "code",
   "execution_count": 9,
   "metadata": {},
   "outputs": [],
   "source": [
    "df = pd.read_csv(os.path.join(data_dir, 'products.txt'), delimiter='|', index_col=None)"
   ]
  },
  {
   "cell_type": "code",
   "execution_count": 10,
   "metadata": {},
   "outputs": [
    {
     "data": {
      "text/html": [
       "<div>\n",
       "<style scoped>\n",
       "    .dataframe tbody tr th:only-of-type {\n",
       "        vertical-align: middle;\n",
       "    }\n",
       "\n",
       "    .dataframe tbody tr th {\n",
       "        vertical-align: top;\n",
       "    }\n",
       "\n",
       "    .dataframe thead th {\n",
       "        text-align: right;\n",
       "    }\n",
       "</style>\n",
       "<table border=\"1\" class=\"dataframe\">\n",
       "  <thead>\n",
       "    <tr style=\"text-align: right;\">\n",
       "      <th></th>\n",
       "      <th>item_desc</th>\n",
       "      <th>corp_item_brand_name</th>\n",
       "      <th>pim_item_class_desc</th>\n",
       "      <th>pim_item_sub_class_desc</th>\n",
       "      <th>state</th>\n",
       "      <th>flavor</th>\n",
       "      <th>pim_tasting_notes</th>\n",
       "    </tr>\n",
       "  </thead>\n",
       "  <tbody>\n",
       "    <tr>\n",
       "      <th>0</th>\n",
       "      <td>-196 CKTL VOD A(DL/G/P) CAN 3/8PK</td>\n",
       "      <td>-196</td>\n",
       "      <td>COCKTAILS</td>\n",
       "      <td>COCKTAILS-OTHER</td>\n",
       "      <td>TX</td>\n",
       "      <td>OTHER</td>\n",
       "      <td>NaN</td>\n",
       "    </tr>\n",
       "    <tr>\n",
       "      <th>1</th>\n",
       "      <td>-196 CKTL VOD PEACH 12 CAN 6/4PK</td>\n",
       "      <td>-196</td>\n",
       "      <td>COCKTAILS</td>\n",
       "      <td>COCKTAILS-OTHER</td>\n",
       "      <td>TX</td>\n",
       "      <td>PEACH</td>\n",
       "      <td>NaN</td>\n",
       "    </tr>\n",
       "    <tr>\n",
       "      <th>2</th>\n",
       "      <td>-196 CKTL VOD DBL LEM 12 CAN 6/4PK</td>\n",
       "      <td>-196</td>\n",
       "      <td>COCKTAILS</td>\n",
       "      <td>COCKTAILS-OTHER</td>\n",
       "      <td>TX</td>\n",
       "      <td>LEMON</td>\n",
       "      <td>Fresh lemon peel. Tart and light sweet with ch...</td>\n",
       "    </tr>\n",
       "    <tr>\n",
       "      <th>3</th>\n",
       "      <td>-196 CKTL VOD GRFRUIT 12 CAN 6/4P</td>\n",
       "      <td>-196</td>\n",
       "      <td>COCKTAILS</td>\n",
       "      <td>COCKTAILS-OTHER</td>\n",
       "      <td>TX</td>\n",
       "      <td>GRAPEFRUIT</td>\n",
       "      <td>NaN</td>\n",
       "    </tr>\n",
       "    <tr>\n",
       "      <th>4</th>\n",
       "      <td>10 CANE RUM 80</td>\n",
       "      <td>10 CANE</td>\n",
       "      <td>RUM</td>\n",
       "      <td>GOLD RUM</td>\n",
       "      <td>TX</td>\n",
       "      <td>NaN</td>\n",
       "      <td>NaN</td>\n",
       "    </tr>\n",
       "  </tbody>\n",
       "</table>\n",
       "</div>"
      ],
      "text/plain": [
       "                            item_desc corp_item_brand_name  \\\n",
       "0   -196 CKTL VOD A(DL/G/P) CAN 3/8PK                 -196   \n",
       "1    -196 CKTL VOD PEACH 12 CAN 6/4PK                 -196   \n",
       "2  -196 CKTL VOD DBL LEM 12 CAN 6/4PK                 -196   \n",
       "3   -196 CKTL VOD GRFRUIT 12 CAN 6/4P                 -196   \n",
       "4                      10 CANE RUM 80              10 CANE   \n",
       "\n",
       "  pim_item_class_desc pim_item_sub_class_desc state      flavor  \\\n",
       "0           COCKTAILS         COCKTAILS-OTHER    TX       OTHER   \n",
       "1           COCKTAILS         COCKTAILS-OTHER    TX       PEACH   \n",
       "2           COCKTAILS         COCKTAILS-OTHER    TX       LEMON   \n",
       "3           COCKTAILS         COCKTAILS-OTHER    TX  GRAPEFRUIT   \n",
       "4                 RUM                GOLD RUM    TX         NaN   \n",
       "\n",
       "                                   pim_tasting_notes  \n",
       "0                                                NaN  \n",
       "1                                                NaN  \n",
       "2  Fresh lemon peel. Tart and light sweet with ch...  \n",
       "3                                                NaN  \n",
       "4                                                NaN  "
      ]
     },
     "execution_count": 10,
     "metadata": {},
     "output_type": "execute_result"
    }
   ],
   "source": [
    "df.head()"
   ]
  },
  {
   "cell_type": "code",
   "execution_count": 7,
   "metadata": {},
   "outputs": [
    {
     "name": "stderr",
     "output_type": "stream",
     "text": [
      "c:\\Users\\hamin\\Desktop\\Southern-Glazers-Brand-Explorer\\.venv\\Lib\\site-packages\\tqdm\\auto.py:21: TqdmWarning: IProgress not found. Please update jupyter and ipywidgets. See https://ipywidgets.readthedocs.io/en/stable/user_install.html\n",
      "  from .autonotebook import tqdm as notebook_tqdm\n"
     ]
    }
   ],
   "source": [
    "import sweetviz as sv"
   ]
  },
  {
   "cell_type": "code",
   "execution_count": 11,
   "metadata": {},
   "outputs": [
    {
     "name": "stderr",
     "output_type": "stream",
     "text": [
      "Done! Use 'show' commands to display/save.   |██████████| [100%]   00:00 -> (00:00 left)\n"
     ]
    },
    {
     "name": "stdout",
     "output_type": "stream",
     "text": [
      "Report c:\\Users\\hamin\\Desktop\\Southern-Glazers-Brand-Explorer\\html\\univariate.html was generated! NOTEBOOK/COLAB USERS: the web browser MAY not pop up, regardless, the report IS saved in your notebook/colab files.\n"
     ]
    }
   ],
   "source": [
    "report = sv.analyze(df)\n",
    "report.show_html(os.path.join(html_dir, 'univariate.html'))"
   ]
  }
 ],
 "metadata": {
  "kernelspec": {
   "display_name": ".venv",
   "language": "python",
   "name": "python3"
  },
  "language_info": {
   "codemirror_mode": {
    "name": "ipython",
    "version": 3
   },
   "file_extension": ".py",
   "mimetype": "text/x-python",
   "name": "python",
   "nbconvert_exporter": "python",
   "pygments_lexer": "ipython3",
   "version": "3.11.5"
  }
 },
 "nbformat": 4,
 "nbformat_minor": 2
}
